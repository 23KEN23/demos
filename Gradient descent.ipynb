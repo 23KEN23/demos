{
 "cells": [
  {
   "cell_type": "code",
   "execution_count": null,
   "metadata": {
    "collapsed": false
   },
   "outputs": [],
   "source": [
    "# generate random data matrix\n",
    "n,d = 6,4\n",
    "X = randn(n,d)\n",
    "\n",
    "# optional: give it linearly dependent columns\n",
    "# X[:,3] = X[:,2]"
   ]
  },
  {
   "cell_type": "code",
   "execution_count": null,
   "metadata": {
    "collapsed": true
   },
   "outputs": [],
   "source": [
    "# form data from noisy linear model\n",
    "w♮ = randn(d)\n",
    "y = X*w♮ + .1*randn(n);"
   ]
  },
  {
   "cell_type": "code",
   "execution_count": null,
   "metadata": {
    "collapsed": false
   },
   "outputs": [],
   "source": [
    "# look at least squares objective as a function of w\n",
    "f(w) = norm(y - X*w)^2"
   ]
  },
  {
   "cell_type": "code",
   "execution_count": null,
   "metadata": {
    "collapsed": false
   },
   "outputs": [],
   "source": [
    "using PyPlot"
   ]
  },
  {
   "cell_type": "code",
   "execution_count": null,
   "metadata": {
    "collapsed": false
   },
   "outputs": [],
   "source": [
    "# gradient at w0 approximates f(w) near w0\n",
    "w0 = randn(d)\n",
    "v = randn(d)\n",
    "alphas = linspace(-2,2,100)\n",
    "∇f = 2X'*X*w0 - 2X'*y\n",
    "plot(alphas, [f(w0 + alpha*v) for alpha in alphas], label=L\"$f(w_0 + \\alpha v)$\")\n",
    "plot(alphas, [f(w0) + alpha*dot(∇f, v) for alpha in alphas], \"r\", label=L\"$f(w_0) + \\alpha (\\nabla f)^T v$\")\n",
    "xlabel(L\"$\\alpha$\")\n",
    "legend()"
   ]
  },
  {
   "cell_type": "code",
   "execution_count": null,
   "metadata": {
    "collapsed": false
   },
   "outputs": [],
   "source": [
    "# function decreases fastest in the -∇f(w) direction\n",
    "w0 = randn(d)\n",
    "v = randn(d)\n",
    "∇f = 2X'*X*w0 - 2X'*y\n",
    "v_normalized = v/norm(v)\n",
    "∇f_normalized = ∇f/norm(∇f)\n",
    "alphas = linspace(-5,5,100)\n",
    "plot(alphas, [f(w0 + alpha*v_normalized) for alpha in alphas])\n",
    "plot(alphas, [f(w0 + alpha*∇f_normalized) for alpha in alphas],\"r\")"
   ]
  },
  {
   "cell_type": "code",
   "execution_count": null,
   "metadata": {
    "collapsed": false
   },
   "outputs": [],
   "source": [
    "# gradient descent\n",
    "\n",
    "alpha = .01      # small constant step size\n",
    "w = randn(d)     # start at a random w\n",
    "fks = Float64[]  # a list to record all the values f(w) we see\n",
    "push!(fks, f(w)) # record the initial value\n",
    "\n",
    "# start descending!\n",
    "for k=1:100\n",
    "    w -= alpha*(2X'*X*w - 2X'*y) # take a gradient step\n",
    "    push!(fks, f(w))             # record its value\n",
    "end\n",
    "plot(fks)\n",
    "# semilogy(fks)\n",
    "# loglog(fks)"
   ]
  }
 ],
 "metadata": {
  "kernelspec": {
   "display_name": "Julia 0.5.0-rc3",
   "language": "julia",
   "name": "julia-0.5"
  },
  "language_info": {
   "file_extension": ".jl",
   "mimetype": "application/julia",
   "name": "julia",
   "version": "0.5.0"
  }
 },
 "nbformat": 4,
 "nbformat_minor": 0
}
