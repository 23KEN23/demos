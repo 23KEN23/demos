{
 "cells": [
  {
   "cell_type": "markdown",
   "metadata": {},
   "source": [
    "# Julia Syntax Tutorial\n",
    "\n",
    "Everything covered today (and **even more**) can be found [here](http://docs.julialang.org/en/release-0.4/manual/)."
   ]
  },
  {
   "cell_type": "code",
   "execution_count": null,
   "metadata": {
    "collapsed": false
   },
   "outputs": [],
   "source": [
    "# Variables\n",
    "\n",
    "x = 3 \n",
    "x = 3.0\n",
    "words = \"Hello world!\"\n",
    "character = 'a'\n",
    "δ = 1e-5\n",
    "\n",
    "pi\n",
    "e\n",
    "α̂₁ = pi / 2"
   ]
  },
  {
   "cell_type": "code",
   "execution_count": null,
   "metadata": {
    "collapsed": false
   },
   "outputs": [],
   "source": [
    "# Arrays\n",
    "\n",
    "u = [1 3 5 7]\n",
    "v = ones(4)\n",
    "w = Array(Float64, 2)\n",
    "\n",
    "\n",
    "X = rand(4, 4)\n",
    "I = eye(4)\n",
    "column = [1,2,3]\n",
    "row = [1 2 3]\n",
    "A = [1 2 3; 4 5 6; 7 8 9]\n",
    "b = [[1 2 3] [4 5 6] [7 8 9]]\n",
    "B = reshape(b, 3, 3)\n",
    "C = fill(15, 2, 3)\n",
    "\n",
    "length(A)\n",
    "ndims(A)\n",
    "size(A)\n",
    "\n",
    "\n"
   ]
  },
  {
   "cell_type": "code",
   "execution_count": null,
   "metadata": {
    "collapsed": false
   },
   "outputs": [],
   "source": [
    "# Array indexing and assignment\n",
    "\n",
    "A[3, 1]\n",
    "A[1,:]\n",
    "A[1:2, 2:end]\n",
    "A[2, [1 3]]\n",
    "\n",
    "A[1:2, 2:3] = -1\n",
    "A[3, 1:2] = [10 11]\n"
   ]
  },
  {
   "cell_type": "code",
   "execution_count": null,
   "metadata": {
    "collapsed": false
   },
   "outputs": [],
   "source": [
    "# Mathematical operations\n",
    "\n",
    "2 + 5\n",
    "3.5 ^ 2\n",
    "[1 2] + [2 3]\n",
    "[1 2] * 1.5\n",
    "A[1, :]' * ones(3)\n",
    "A .* B\n"
   ]
  },
  {
   "cell_type": "code",
   "execution_count": null,
   "metadata": {
    "collapsed": false
   },
   "outputs": [],
   "source": [
    "3.0 > 2.0\n",
    "9 ≤ 9 \n",
    "1 != 2\n",
    "[1 2] .< [2 3]"
   ]
  },
  {
   "cell_type": "code",
   "execution_count": null,
   "metadata": {
    "collapsed": false
   },
   "outputs": [],
   "source": [
    "# Control flow\n",
    "x = 2\n",
    "y = 1\n",
    "if x < y\n",
    "    println(\"x is less than y: $x < $y\")\n",
    "elseif x > y\n",
    "  println(\"x is greater than y: $x > $y\")\n",
    "else\n",
    "  println(\"x is equal to y: $x = $y\")\n",
    "end"
   ]
  },
  {
   "cell_type": "code",
   "execution_count": null,
   "metadata": {
    "collapsed": false
   },
   "outputs": [],
   "source": [
    "i = 1\n",
    "while i <= 5\n",
    "    println(i)\n",
    "    i += 1 \n",
    "end"
   ]
  },
  {
   "cell_type": "code",
   "execution_count": null,
   "metadata": {
    "collapsed": false
   },
   "outputs": [],
   "source": [
    "for i = 1:5\n",
    "    if i == 3\n",
    "        #continue\n",
    "        break\n",
    "    end\n",
    "    println(i)\n",
    "end"
   ]
  },
  {
   "cell_type": "code",
   "execution_count": null,
   "metadata": {
    "collapsed": false
   },
   "outputs": [],
   "source": [
    "u = [1,3,5,7]\n",
    "for i in u\n",
    "    println(i)\n",
    "end"
   ]
  },
  {
   "cell_type": "markdown",
   "metadata": {},
   "source": [
    "# functions"
   ]
  },
  {
   "cell_type": "code",
   "execution_count": null,
   "metadata": {
    "collapsed": false
   },
   "outputs": [],
   "source": [
    "# these three syntaxes all define the function f(x) = 2x\n",
    "f(x) = 2*x\n",
    "function f(x)\n",
    "    return 2*x\n",
    "end"
   ]
  },
  {
   "cell_type": "code",
   "execution_count": null,
   "metadata": {
    "collapsed": false
   },
   "outputs": [],
   "source": [
    "# default values for positional arguments\n",
    "function f(x, mult=2)\n",
    "    return mult*x\n",
    "end\n",
    "f(2)    # ==4\n",
    "f(2, 3) # ==6"
   ]
  },
  {
   "cell_type": "code",
   "execution_count": null,
   "metadata": {
    "collapsed": true
   },
   "outputs": [],
   "source": [
    "# default values for keyword arguments: use a semicolon instead of a comma\n",
    "function f(x; mult=2)\n",
    "    return mult*x\n",
    "end\n",
    "f(2)         # ==4\n",
    "f(2, mult=3) # ==6"
   ]
  },
  {
   "cell_type": "code",
   "execution_count": null,
   "metadata": {
    "collapsed": false
   },
   "outputs": [],
   "source": [
    "# variable number of arguments\n",
    "function f(x...)\n",
    "    for xi in x\n",
    "        println(xi)\n",
    "    end\n",
    "end\n",
    "f(1,2,3,4,\"a\",\"b\",\"c\")"
   ]
  },
  {
   "cell_type": "code",
   "execution_count": null,
   "metadata": {
    "collapsed": false
   },
   "outputs": [],
   "source": [
    "# list comprehensions: shorthand for loops (not very memory efficient)\n",
    "[x^2 for x in 1:5]\n",
    "[x^2 for x in 1:5 if x>2]\n",
    "[x^k for x in 1:10 for k in 1:5]"
   ]
  },
  {
   "cell_type": "code",
   "execution_count": null,
   "metadata": {
    "collapsed": false
   },
   "outputs": [],
   "source": [
    "# dictionaries and sets\n",
    "\n",
    "x = Set([1,2,3,3,4,1])\n",
    "y = Set([1,5])\n",
    "union(x, y)\n",
    "intersect(x, y)\n",
    "d = Dict()\n",
    "d[4] = 7\n",
    "d['a'] = 2\n",
    "get(d, 4, -1)\n"
   ]
  },
  {
   "cell_type": "markdown",
   "metadata": {},
   "source": [
    "# advanced topic for people who like OOP: types and multiple dispatch"
   ]
  },
  {
   "cell_type": "code",
   "execution_count": null,
   "metadata": {
    "collapsed": false
   },
   "outputs": [],
   "source": [
    "# x::y is an assertion that x is a variable of type y\n",
    "\n",
    "1.0::Float64"
   ]
  },
  {
   "cell_type": "code",
   "execution_count": null,
   "metadata": {
    "collapsed": false
   },
   "outputs": [],
   "source": [
    "# if we assert something false, we get a type error \n",
    "1.0::Int"
   ]
  },
  {
   "cell_type": "code",
   "execution_count": null,
   "metadata": {
    "collapsed": false
   },
   "outputs": [],
   "source": [
    "# we can define many functions with the same name, which call arguments of different types\n",
    "# julia decides which to call by looking at the type of the argument\n",
    "\n",
    "f(x::Int) = println(\"$x is an integer\")\n",
    "f(x::Float64) = println(\"$x is an float\")\n",
    "f(2)\n",
    "f(2.0)"
   ]
  },
  {
   "cell_type": "code",
   "execution_count": null,
   "metadata": {
    "collapsed": false
   },
   "outputs": [],
   "source": [
    "type Student\n",
    "    name::String    \n",
    "    gpa::Float64\n",
    "end\n",
    "\n",
    "s1 = Student(\"Alice\", 3.9)\n",
    "s2 = Student(\"Bob\", 3.2)"
   ]
  },
  {
   "cell_type": "code",
   "execution_count": null,
   "metadata": {
    "collapsed": false
   },
   "outputs": [],
   "source": [
    "s1.name"
   ]
  },
  {
   "cell_type": "code",
   "execution_count": null,
   "metadata": {
    "collapsed": false
   },
   "outputs": [],
   "source": [
    "f(s::Student) = println(\"$(s.name) has a $(s.gpa) gpa\")\n",
    "\n",
    "# we've defined the \"f\" function on three different types\n",
    "# julia knows to call the right one by looking at the type of the argument\n",
    "\n",
    "f(s1)\n",
    "f(s2)\n",
    "f(4)\n",
    "f(sqrt(2))"
   ]
  }
 ],
 "metadata": {
  "kernelspec": {
   "display_name": "Julia 0.5.0-rc4",
   "language": "julia",
   "name": "julia-0.5"
  },
  "language_info": {
   "file_extension": ".jl",
   "mimetype": "application/julia",
   "name": "julia",
   "version": "0.5.0"
  }
 },
 "nbformat": 4,
 "nbformat_minor": 0
}
