{
 "cells": [
  {
   "cell_type": "code",
   "execution_count": null,
   "metadata": {
    "collapsed": false
   },
   "outputs": [],
   "source": [
    "using DataFrames\n",
    "using Gadfly"
   ]
  },
  {
   "cell_type": "code",
   "execution_count": null,
   "metadata": {
    "collapsed": false
   },
   "outputs": [],
   "source": [
    "# load data\n",
    "crime = readtable(\"crime.csv\")"
   ]
  },
  {
   "cell_type": "markdown",
   "metadata": {},
   "source": [
    "First, let's see what the data look like."
   ]
  },
  {
   "cell_type": "code",
   "execution_count": null,
   "metadata": {
    "collapsed": false
   },
   "outputs": [],
   "source": [
    "plot(crime,x=:Year,y=:Index_Rate,color=:County,Geom.line)"
   ]
  },
  {
   "cell_type": "markdown",
   "metadata": {},
   "source": [
    "Looks like some counties didn't report their data every year - especially, the large ones."
   ]
  },
  {
   "cell_type": "code",
   "execution_count": null,
   "metadata": {
    "collapsed": false
   },
   "outputs": [],
   "source": [
    "nonreporting_counties = Set((crime[:County])[crime[:Index_Count].>1e5])"
   ]
  },
  {
   "cell_type": "markdown",
   "metadata": {},
   "source": [
    "Let's check that assumption. Which counties didn't report their data all years?"
   ]
  },
  {
   "cell_type": "code",
   "execution_count": null,
   "metadata": {
    "collapsed": false
   },
   "outputs": [],
   "source": [
    "counties = Set((crime[:County]))\n",
    "reporting_counties = String[]\n",
    "nonreporting_counties = String[]\n",
    "\n",
    "for county in counties\n",
    "    # println(\"$county reported for $(length(crime[crime[:County].==county,:County])) years.\")\n",
    "    if length(crime[crime[:County].==county,:County]) == 26\n",
    "        push!(reporting_counties, county)\n",
    "    else\n",
    "        push!(nonreporting_counties, county)\n",
    "    end\n",
    "end\n",
    "nonreporting_counties"
   ]
  },
  {
   "cell_type": "code",
   "execution_count": null,
   "metadata": {
    "collapsed": false
   },
   "outputs": [],
   "source": [
    "reported_crime_all_years = Array(Bool, size(crime,1))\n",
    "for (i,county) in enumerate(crime[:County])\n",
    "    reported_crime_all_years[i] = ~(county in nonreporting_counties)\n",
    "end"
   ]
  },
  {
   "cell_type": "markdown",
   "metadata": {},
   "source": [
    "Let's delete data from the counties that didn't always report it."
   ]
  },
  {
   "cell_type": "code",
   "execution_count": null,
   "metadata": {
    "collapsed": false
   },
   "outputs": [],
   "source": [
    "crime = crime[reported_crime_all_years,:]"
   ]
  },
  {
   "cell_type": "markdown",
   "metadata": {},
   "source": [
    "Let's see what this cleaner data set looks like."
   ]
  },
  {
   "cell_type": "code",
   "execution_count": null,
   "metadata": {
    "collapsed": false
   },
   "outputs": [],
   "source": [
    "plot(crime,x=:Year,y=:Index_Count,color=:County,Geom.line)"
   ]
  },
  {
   "cell_type": "code",
   "execution_count": null,
   "metadata": {
    "collapsed": false
   },
   "outputs": [],
   "source": [
    "plot(crime,x=:Year,y=:Index_Count,color=:County,Geom.bar, Coord.cartesian(xmin=1990, xmax=2015, ymin=0, ymax=5e5))"
   ]
  },
  {
   "cell_type": "code",
   "execution_count": null,
   "metadata": {
    "collapsed": false
   },
   "outputs": [],
   "source": [
    "# just Tompkins county\n",
    "tompkins = crime[crime[:County].==\"Tompkins\",:]"
   ]
  },
  {
   "cell_type": "code",
   "execution_count": null,
   "metadata": {
    "collapsed": false
   },
   "outputs": [],
   "source": [
    "plot(tompkins,x=:Year,y=:Index_Rate,color=:County,Geom.point)"
   ]
  }
 ],
 "metadata": {
  "kernelspec": {
   "display_name": "Julia 0.5.0-rc3",
   "language": "julia",
   "name": "julia-0.5"
  },
  "language_info": {
   "file_extension": ".jl",
   "mimetype": "application/julia",
   "name": "julia",
   "version": "0.5.0"
  }
 },
 "nbformat": 4,
 "nbformat_minor": 0
}
