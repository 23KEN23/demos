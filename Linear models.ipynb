{
 "cells": [
  {
   "cell_type": "code",
   "execution_count": null,
   "metadata": {
    "collapsed": false
   },
   "outputs": [],
   "source": [
    "using PyPlot"
   ]
  },
  {
   "cell_type": "code",
   "execution_count": null,
   "metadata": {
    "collapsed": false
   },
   "outputs": [],
   "source": [
    "\"\"\"plot line y = m*x+b\"\"\"\n",
    "function plotline(w,b;\n",
    "                  xmin=-100,xmax=100)\n",
    "    xsamples = [xmin, xmax]\n",
    "    plot(xsamples, [w*x+b for x in xsamples], color=\"black\")\n",
    "end"
   ]
  },
  {
   "cell_type": "code",
   "execution_count": null,
   "metadata": {
    "collapsed": false
   },
   "outputs": [],
   "source": [
    "\"\"\"plot function y=f(x)\"\"\"\n",
    "function plotfunc(f;\n",
    "                  xmin=-100,xmax=100,nsamples=100)\n",
    "    xsamples = linspace(xmin,xmax,nsamples)\n",
    "    plot(xsamples, [f(x) for x in xsamples], color=\"black\")\n",
    "end"
   ]
  },
  {
   "cell_type": "code",
   "execution_count": null,
   "metadata": {
    "collapsed": false
   },
   "outputs": [],
   "source": [
    "# Generate and plot data\n",
    "srand(2)\n",
    "n = 20\n",
    "function sample_data(num_points)\n",
    "    x = rand(num_points)*10\n",
    "    y = .2 + .2*x + .1*sin(x) + .03*randn(num_points) - .1*(x/6).^2\n",
    "    return x,y\n",
    "end\n",
    "x,y = sample_data(n)\n",
    "\n",
    "\"\"\"function to plot the above data\"\"\"\n",
    "function plotdata(x=x,y=y; margin=.05)\n",
    "    hold(true)\n",
    "    plot(x,y,\"o\")\n",
    "    xlabel(\"x\")\n",
    "    ylabel(\"y\")\n",
    "    range_y = maximum(y) - minimum(y)\n",
    "    range_x = maximum(x) - minimum(x)\n",
    "    ylim([minimum(y)-margin*range_y,maximum(y)+margin*range_y])\n",
    "    xlim([minimum(x)-margin*range_x,maximum(x)+margin*range_x])\n",
    "end\n",
    "plotdata()"
   ]
  },
  {
   "cell_type": "markdown",
   "metadata": {},
   "source": [
    "# Approximating with the mean"
   ]
  },
  {
   "cell_type": "code",
   "execution_count": null,
   "metadata": {
    "collapsed": false
   },
   "outputs": [],
   "source": [
    "# the mean solves a very simple least squares problem:\n",
    "X = ones(n,1)\n",
    "w = X\\y"
   ]
  },
  {
   "cell_type": "code",
   "execution_count": null,
   "metadata": {
    "collapsed": false
   },
   "outputs": [],
   "source": [
    "# check the solution to our least squares problem is the mean\n",
    "abs(mean(y) - w[1])"
   ]
  },
  {
   "cell_type": "code",
   "execution_count": null,
   "metadata": {
    "collapsed": false
   },
   "outputs": [],
   "source": [
    "# plot the fit\n",
    "clf() # clears the previous figure\n",
    "plotdata()\n",
    "plotline(0, w[1])"
   ]
  },
  {
   "cell_type": "markdown",
   "metadata": {},
   "source": [
    "# Approximating with a line"
   ]
  },
  {
   "cell_type": "code",
   "execution_count": null,
   "metadata": {
    "collapsed": false
   },
   "outputs": [],
   "source": [
    "X = [copy(x) ones(length(x))]"
   ]
  },
  {
   "cell_type": "code",
   "execution_count": null,
   "metadata": {
    "collapsed": false
   },
   "outputs": [],
   "source": [
    "w = X\\y"
   ]
  },
  {
   "cell_type": "code",
   "execution_count": null,
   "metadata": {
    "collapsed": false
   },
   "outputs": [],
   "source": [
    "# plot the fit\n",
    "clf()\n",
    "plotdata()\n",
    "plotline(w[1], w[2])"
   ]
  },
  {
   "cell_type": "code",
   "execution_count": null,
   "metadata": {
    "collapsed": false
   },
   "outputs": [],
   "source": [
    "# plot fit on out of sample data\n",
    "clf()\n",
    "plotdata()\n",
    "plotline(w[1], w[2])\n",
    "\n",
    "xtest,ytest = sample_data(20)\n",
    "plotdata(xtest,ytest)"
   ]
  },
  {
   "cell_type": "markdown",
   "metadata": {},
   "source": [
    "# Approximating with a polynomial"
   ]
  },
  {
   "cell_type": "code",
   "execution_count": null,
   "metadata": {
    "collapsed": false
   },
   "outputs": [],
   "source": [
    "# first, construct a Vandermonde matrix\n",
    "max_order = 10\n",
    "\n",
    "X = zeros(n, max_order+1)\n",
    "for k=0:max_order\n",
    "    X[:,k+1] = x.^k\n",
    "end\n",
    "X"
   ]
  },
  {
   "cell_type": "code",
   "execution_count": null,
   "metadata": {
    "collapsed": false
   },
   "outputs": [],
   "source": [
    "# solve least squares problem\n",
    "w = X\\y"
   ]
  },
  {
   "cell_type": "code",
   "execution_count": null,
   "metadata": {
    "collapsed": false
   },
   "outputs": [],
   "source": [
    "\"\"\"computes our polynomial fit evaluated at x\"\"\"\n",
    "function p(x)\n",
    "    y = 0\n",
    "    for k=0:max_order\n",
    "        y += w[k+1]*x^k\n",
    "    end\n",
    "    return y\n",
    "end"
   ]
  },
  {
   "cell_type": "code",
   "execution_count": null,
   "metadata": {
    "collapsed": false
   },
   "outputs": [],
   "source": [
    "# plot fit\n",
    "clf()\n",
    "plotdata()\n",
    "plotfunc(p, xmin=0, xmax=9)"
   ]
  },
  {
   "cell_type": "code",
   "execution_count": null,
   "metadata": {
    "collapsed": false
   },
   "outputs": [],
   "source": [
    "# plot fit on out of sample data\n",
    "clf()\n",
    "plotdata()\n",
    "plotfunc(p, xmin=0, xmax=9)\n",
    "\n",
    "xtest,ytest = sample_data(20)\n",
    "plotdata(xtest,ytest)"
   ]
  },
  {
   "cell_type": "code",
   "execution_count": null,
   "metadata": {
    "collapsed": true
   },
   "outputs": [],
   "source": []
  }
 ],
 "metadata": {
  "kernelspec": {
   "display_name": "Julia 0.5.0-rc3",
   "language": "julia",
   "name": "julia-0.5"
  },
  "language_info": {
   "file_extension": ".jl",
   "mimetype": "application/julia",
   "name": "julia",
   "version": "0.5.0"
  }
 },
 "nbformat": 4,
 "nbformat_minor": 0
}
